{
  "nbformat": 4,
  "nbformat_minor": 0,
  "metadata": {
    "colab": {
      "provenance": [],
      "include_colab_link": true
    },
    "kernelspec": {
      "name": "python3",
      "display_name": "Python 3"
    },
    "language_info": {
      "name": "python"
    }
  },
  "cells": [
    {
      "cell_type": "markdown",
      "metadata": {
        "id": "view-in-github",
        "colab_type": "text"
      },
      "source": [
        "<a href=\"https://colab.research.google.com/github/Nicsims98/First-simple-project-/blob/main/Destony_Knoop_Reporting_Insights.ipynb\" target=\"_parent\"><img src=\"https://colab.research.google.com/assets/colab-badge.svg\" alt=\"Open In Colab\"/></a>"
      ]
    },
    {
      "cell_type": "markdown",
      "source": [
        "# Reporting Insights: Market Research and Consumer Data Analytics Externship of Beats by Dre"
      ],
      "metadata": {
        "id": "IydAmVbUe5No"
      }
    },
    {
      "cell_type": "markdown",
      "source": [
        "Kindly use this template to get an overview of the structure that will help you showcase the work you've done throughout this project. This template will guide you in organizing your findings and insights effectively.\n",
        "\n",
        "Ensure that the final insights that you produce in your analysis stand out and are easily accessible.\n",
        "\n",
        "You need to provide the code snippets that you used to run code (if any)."
      ],
      "metadata": {
        "id": "cnsXGvlme_mH"
      }
    },
    {
      "cell_type": "markdown",
      "source": [
        "\n",
        "**Project Title:** Consumer Insights for Beats by Dre  \n",
        "**Student Name:** _Destiny Knoop_  \n",
        "**Date:** *10/10/2024*"
      ],
      "metadata": {
        "id": "9NNnXrCxfZm5"
      }
    },
    {
      "cell_type": "code",
      "source": [],
      "metadata": {
        "id": "Rqri9Wlpfys4"
      },
      "execution_count": null,
      "outputs": []
    },
    {
      "cell_type": "markdown",
      "source": [
        "## 2. Table of Contents\n",
        "1. Introduction\n",
        "2. Data Description\n",
        "3. Sentiment Analysis\n",
        "4. AI-Generated Insights\n",
        "5. Conclusion\n",
        "6. References"
      ],
      "metadata": {
        "id": "EcaUG1uyfeiS"
      }
    },
    {
      "cell_type": "markdown",
      "source": [
        "## 3. Introduction\n",
        "\n",
        "### 3.1 Project Overview\n",
        "Briefly describe the purpose of the project and outline the key objectives."
      ],
      "metadata": {
        "id": "jbYdV2Rbf0AD"
      }
    },
    {
      "cell_type": "markdown",
      "source": [
        "This project was meant to help guide us through the process of conducting sentiment analysis. We used Google Colab and python to help complete this project. We used learned Data scraping using APIs and refined the data using Pandas and NumPy. We are looking to use AI tools to analyze the consumer sentiment at a more efficent rate. We are aiming to gain insights to present to the Beats by Dr.Dre team."
      ],
      "metadata": {
        "id": "gjta_OEPpxpB"
      }
    },
    {
      "cell_type": "code",
      "source": [],
      "metadata": {
        "id": "7d6ZDJuLf5E2"
      },
      "execution_count": null,
      "outputs": []
    },
    {
      "cell_type": "markdown",
      "source": [
        "### 3.2 Background\n",
        "Provide context about Beats by Dre and the importance of consumer sentiment analysis in the tech industry."
      ],
      "metadata": {
        "id": "gsPiaY4Zf6bZ"
      }
    },
    {
      "cell_type": "markdown",
      "source": [
        "Beats by Dre is an audio company that was founded in 2005 by music producer Dr. Dre. It was bought by apple in 2014. They are trying to see if they should release a HIFI speaker. Consumer sentiment analysis is important in the tech industry because it helps companies understand user prefrences, guide product development, and monitor brand perception. It offers insights into consumer satisfaction and areas for improvement, allowing tech companies to enhance user experiences and tailor marketing efforts. Additonally, it provides a competitive edge by identifying market trends and evaulting competitor feedback, ensuring companies stay ahead in a fast-evolving industry."
      ],
      "metadata": {
        "id": "8zqkexAEsWY1"
      }
    },
    {
      "cell_type": "code",
      "source": [],
      "metadata": {
        "id": "Jcn8CEfgf-uz"
      },
      "execution_count": null,
      "outputs": []
    },
    {
      "cell_type": "markdown",
      "source": [
        "## 4. Data Description\n",
        "\n",
        "### 4.1 Data Sources\n",
        "Describe the sources of your data (e.g., Amazon reviews)."
      ],
      "metadata": {
        "id": "oL_6d6NngA_2"
      }
    },
    {
      "cell_type": "code",
      "source": [
        "I gathered my data using different amazon reviews."
      ],
      "metadata": {
        "id": "CBRlBBwTgBl7"
      },
      "execution_count": null,
      "outputs": []
    },
    {
      "cell_type": "markdown",
      "source": [
        "### 4.2 Data Collection\n",
        "Explain the data gathering process, including any challenges faced and how they were overcome."
      ],
      "metadata": {
        "id": "8KD8d0nXgCAy"
      }
    },
    {
      "cell_type": "markdown",
      "source": [
        "\n",
        "\n",
        "### Data Gathering Process\n",
        "\n",
        "**Data Sources**:\n",
        "I collected product reviews for multiple products, including Beats and competitor brands, using an API to extract detailed review data, such as review ID, product ID, title, author, rating, and review content.\n",
        "\n",
        "**Tools & Techniques**:\n",
        "I used Python in Google Colab to process the JSON data. Each review was appended to a list of dictionaries and converted into a Pandas DataFrame for analysis. The data was then saved as a CSV file.\n",
        "\n",
        "####**Challenges & Solutions**:\n",
        "- **Challenges**: Encountered issues with missing or inconsistent fields in the reviews. I also missed a video on how to parse the information.\n",
        "- **Solutions**: Used the `.get()` method to handle missing data and ensured the script gracefully skipped errors by using `try/except`. I made sure to attend the support meeting to ask questions.\n",
        "\n",
        "\n"
      ],
      "metadata": {
        "id": "WNPSfz9Zy4My"
      }
    },
    {
      "cell_type": "markdown",
      "source": [
        "### 4.3 Data Cleaning\n",
        "Outline the steps taken to clean and preprocess the data, highlighting any significant decisions made during this process.\n",
        "\n",
        "Load the data below and process cleaning here."
      ],
      "metadata": {
        "id": "dnCMjSjegE55"
      }
    },
    {
      "cell_type": "markdown",
      "source": [
        "### Data Cleaning and Preprocessing Steps\n",
        "\n",
        "1. **Loading the Data**: The dataset was loaded into a Pandas DataFrame from a CSV file for analysis.\n",
        "   \n",
        "2. **Identifying Missing Data**: The `isnull().sum()` function was used to identify any missing values in the dataset.\n",
        "   \n",
        "3. **Handling Missing Data**: Rows containing missing values were removed using `dropna()`, ensuring clean and complete data.\n",
        "\n",
        "4. **Detecting Duplicates**: Duplicate rows were detected using the `duplicated()` function and counted.\n",
        "\n",
        "5. **Removing Duplicates**: Duplicates were removed using `drop_duplicates()`, leaving a unique set of records.\n",
        "\n",
        "**Significant Decisions**:\n",
        "- Dropping rows with missing values ensured consistency but may have removed some valid data.\n",
        "- Removing duplicates was critical to maintaining the integrity of the dataset by avoiding biased analysis from repeated information.\n"
      ],
      "metadata": {
        "id": "UOcGqIRV1KUT"
      }
    },
    {
      "cell_type": "code",
      "source": [
        "\n",
        "import pandas as pd\n",
        "df = pd.read_csv('/content/merged_data.csv')\n",
        "print(df.head())\n",
        "\n",
        "\n",
        "print(df.isnull().sum())\n",
        "\n",
        "\n",
        "df.dropna(inplace=True)\n",
        "\n",
        "\n",
        "print(df.duplicated().sum())\n",
        "\n",
        "\n",
        "df.drop_duplicates(inplace=True)\n",
        "\n",
        "\n",
        "print(df.head())\n"
      ],
      "metadata": {
        "id": "HXTgzclLgLFb"
      },
      "execution_count": null,
      "outputs": []
    },
    {
      "cell_type": "markdown",
      "source": [
        "## 5. Sentiment Analysis\n",
        "\n",
        "### 5.1 Methodology\n",
        "Explain the sentiment analysis techniques used (e.g., TextBlob, NLTK) and provide code snippets."
      ],
      "metadata": {
        "id": "-iMv0E-wgRcc"
      }
    },
    {
      "cell_type": "markdown",
      "source": [
        "In this project, I used the TextBlob library for sentiment analysis. TextBlob is a simple and easy-to-use Python library for processing textual data, providing functionalities such as sentiment polarity (ranging from -1 to 1, with -1 being very negative and 1 very positive) and subjectivity (ranging from 0 to 1)."
      ],
      "metadata": {
        "id": "I6l-_d8n27nR"
      }
    },
    {
      "cell_type": "code",
      "source": [
        "from textblob import TextBlob\n",
        "\n",
        "def analyze_sentiment(text):\n",
        "    blob = TextBlob(text)\n",
        "    return blob.sentiment.polarity, blob.sentiment.subjectivity\n",
        "\n",
        "df[['polarity', 'subjectivity']] = df['content'].apply(analyze_sentiment).apply(pd.Series)\n",
        "print(df.head())\n"
      ],
      "metadata": {
        "id": "3CdtKnwPgThE"
      },
      "execution_count": null,
      "outputs": []
    },
    {
      "cell_type": "markdown",
      "source": [
        "### 5.2 Results\n",
        "Present the sentiment analysis results, including visualizations of sentiment distribution, and discuss the overall sentiment towards Beats by Dre products.\n"
      ],
      "metadata": {
        "id": "0DBNIEkXgkQl"
      }
    },
    {
      "cell_type": "markdown",
      "source": [
        "Using the TextBlob library, sentiment analysis was conducted on the product reviews. The results provided polarity values for each product. The sentiment scores ranged from 0.229 to 0.332, indicating that overall feedback for Beats by Dre products is moderately positive.\n",
        "\n",
        "The sentiment analysis results show the following insights for each product:\n",
        "\n",
        "Beats Pill (B06XRHPMV6): Sentiment score of 0.295, indicating generally positive feedback with room for improvement.\n",
        "JBL GO 3 Eco (B0BT38PTX7): Not included in the scores provided, but can be added based on future data.\n",
        "Anker Soundcore 2 (B01MTB55WH): Sentiment score of 0.278, reflecting mildly positive feedback.\n",
        "Bose SoundLink Flex (B099TJGJ91): Highest sentiment score at 0.332, suggesting very positive reviews from users.\n",
        "Soundcore 3 by Anker (B0994585W6): Sentiment score of 0.325, also indicating strong positive feedback.\n",
        "W-King Bluetooth Speaker (B08KZJFC2F): Lowest sentiment score at 0.229, reflecting more mixed or neutral reviews.\n",
        "Tribit MaxSound Plus (B08JPZNDQG): Sentiment score of 0.250, showing moderately positive feedback.\n",
        "JBL Clip Camo (B07L8P4V84): Sentiment score of 0.310, highlighting positive sentiment.\n",
        "Bose SoundLink Micro (B09R84PDTG): Sentiment score of 0.316, showing favorable customer response.\n",
        "Oontz Angle 3 (B07NDP8B76): Sentiment score of 0.271, showing mildly positive feedback.\n",
        "Overall, Bose SoundLink Flex and Soundcore 3 by Anker received the most positive reviews, while W-King Bluetooth Speaker had the most neutral sentiment. This indicates that while most products are well-received, there is variation in customer satisfaction based on product quality and features."
      ],
      "metadata": {
        "id": "O_VIGuCK3XaU"
      }
    },
    {
      "cell_type": "code",
      "source": [
        "import matplotlib.pyplot as plt\n",
        "\n",
        "#\n",
        "product_sentiments = {\n",
        "    'B01MTB55WH': 0.278296,\n",
        "    'B06XRHPMV6': 0.295174,\n",
        "    'B07L8P4V84': 0.310265,\n",
        "    'B07NDP8B76': 0.271511,\n",
        "    'B08JPZNDQG': 0.250438,\n",
        "    'B08KZJFC2F': 0.229233,\n",
        "    'B0994585W6': 0.325297,\n",
        "    'B099TJGJ91': 0.332385,\n",
        "    'B09R84PDTG': 0.316737\n",
        "}\n",
        "\n",
        "plt.bar(product_sentiments.keys(), product_sentiments.values(), color='skyblue')\n",
        "plt.xticks(rotation=90)\n",
        "plt.title('Sentiment Scores for Beats by Dre Products')\n",
        "plt.xlabel('Product ID')\n",
        "plt.ylabel('Sentiment Score')\n",
        "plt.show()\n"
      ],
      "metadata": {
        "id": "td42gqxbgnIO"
      },
      "execution_count": null,
      "outputs": []
    },
    {
      "cell_type": "markdown",
      "source": [
        "## 6. AI-Generated Insights\n",
        "\n",
        "### 6.1 Using Gemini AI\n",
        "Briefly explain how Gemini AI was used to extract insights and include any relevant code snippets or explanations."
      ],
      "metadata": {
        "id": "DNwZT81EgnZx"
      }
    },
    {
      "cell_type": "markdown",
      "source": [
        "In this project, Gemini AI was employed through Google’s Generative AI API to extract insights from customer reviews. The Gemini 1.5 Flash model was configured with custom parameters (temperature, top_p, top_k) to ensure the output was insightful. By feeding customer review data from a CSV file, the AI generated summaries of key insights for each product, identifying trends in sentiment and customer feedback across various product ASINs."
      ],
      "metadata": {
        "id": "LXvYE8Yj5e5M"
      }
    },
    {
      "cell_type": "code",
      "source": [
        "def analyze_reviews(reviews, api_key, prompt_message):\n",
        "    genai.configure(api_key=api_key)\n",
        "\n",
        "    model = genai.GenerativeModel(\n",
        "        model_name=\"gemini-1.5-flash\",\n",
        "        generation_config={\n",
        "            \"temperature\": 1,\n",
        "            \"top_p\": 0.95,\n",
        "            \"top_k\": 64,\n",
        "            \"max_output_tokens\": 8192,\n",
        "            \"response_mime_type\": \"text/plain\",\n",
        "        },\n",
        "    )\n",
        "\n",
        "    chat_session = model.start_chat(history=[])\n",
        "\n",
        "    prompt = prompt_message + \"\\n\\n\".join(reviews)\n",
        "    response = chat_session.send_message(prompt)\n",
        "    return response.text\n"
      ],
      "metadata": {
        "id": "c7FOv7m_gttl"
      },
      "execution_count": null,
      "outputs": []
    },
    {
      "cell_type": "markdown",
      "source": [
        "\n",
        "###Process:\n",
        "\n",
        "-Review Collection: Reviews were filtered by product ASIN from a CSV file.\n",
        "\n",
        "-AI Configuration: The Gemini AI model was set up with a specific generation configuration for better insights.\n",
        "\n",
        "-Insight Extraction: The AI was prompted to analyze the reviews, generating summaries for each product.\n",
        "\n",
        "\n",
        "The process resulted in useful insights about customer sentiment, key product features, and trends in feedback across Beats by Dre and competitor products."
      ],
      "metadata": {
        "id": "T8SkaYhn55x7"
      }
    },
    {
      "cell_type": "markdown",
      "source": [
        "### 6.2 Key Insights\n",
        "Summarize the key insights generated by Gemini AI, including specific examples of prompts used and the responses received.\n"
      ],
      "metadata": {
        "id": "Ytb0BYEqgpfB"
      }
    },
    {
      "cell_type": "markdown",
      "source": [
        "Gemini AI analyzed reviews for multiple products, including the Beats Pill+, Tribit MaxSound Plus, JBL Clip 3, and Bose SoundLink Micro. Key strengths across the board were sound quality, with terms like \"phenomenal\" and \"crisp\" used frequently, along with portability and durability, especially for outdoor activities. Specific to Beats Pill+, users praised the rich sound and portability, while highlighting concerns around durability and volume control. Products like Bose SoundLink Micro were praised for water resistance, but some felt it was overpriced.\n",
        "\n",
        "Prompt Example:\n",
        "\n",
        "Prompt: \"Analyze the following reviews and summarize the key insights:\"\n",
        "\n",
        "Response: The insights highlighted common positive themes like sound quality and portability, while pinpointing drawbacks such as Bluetooth connectivity issues."
      ],
      "metadata": {
        "id": "diqpKiAm773b"
      }
    },
    {
      "cell_type": "markdown",
      "source": [
        "### 6.3 Interpretation\n",
        "Discuss how these insights can be interpreted and their relevance to Beats by Dre."
      ],
      "metadata": {
        "id": "Xnipe_rYgvQG"
      }
    },
    {
      "cell_type": "markdown",
      "source": [
        "The AI-generated insights reveal that Beats by Dre is performing well in critical areas such as sound quality and portability, which are vital in the portable speaker market. However, comparisons to competitors like JBL and Bose indicate opportunities for improvement, especially in durability and battery life consistency. For example, while the Beats Pill+ was praised for sound, its durability and value for money were concerns that brands like Bose handle better in customer perceptions. Improving in these areas can strengthen Beats' position in the highly competitive portable speaker space."
      ],
      "metadata": {
        "id": "-ib4km7vLUZP"
      }
    },
    {
      "cell_type": "markdown",
      "source": [
        "## 7. Conclusion\n",
        "Summarize the key findings and their implications, and reflect on the overall project and its contribution to understanding consumer sentiment for Beats by Dre."
      ],
      "metadata": {
        "id": "6LrUwAGHhIsP"
      }
    },
    {
      "cell_type": "markdown",
      "source": [
        "The key findings from this project reveal that Beats by Dre products like the Beats Pill+ are highly regarded for their sound quality and portability, consistent with other competitors in the market such as Bose and JBL. However, issues around durability and value for money emerged as concerns for consumers. The insights provided a nuanced understanding of how Beats by Dre can enhance its competitive positioning by addressing these areas while continuing to emphasize strengths like sound and design. This project contributes to understanding consumer sentiment by highlighting the balance between performance and durability that matters to users."
      ],
      "metadata": {
        "id": "t8N2sVPk8fRt"
      }
    },
    {
      "cell_type": "code",
      "source": [],
      "metadata": {
        "id": "LJBOImwihKZ_"
      },
      "execution_count": null,
      "outputs": []
    },
    {
      "cell_type": "markdown",
      "source": [
        "## 8. References\n",
        "List all the sources, tools, and references used in the project.\n"
      ],
      "metadata": {
        "id": "olikrWxke3lK"
      }
    },
    {
      "cell_type": "markdown",
      "source": [
        "**Sources**:\n",
        "- Customer reviews from Amazon for various products (Beats, JBL, Bose, Anker, Tribit)\n",
        "- Product ASINs for review extraction\n",
        "\n",
        "**Tools**:\n",
        "- **Gemini AI**: Sentiment analysis and insight extraction\n",
        "- **Google Colab**: Data processing\n",
        "- **Pandas**: Data manipulation\n",
        "- **TextBlob**: Sentiment analysis\n",
        "- **Matplotlib**: Data visualizations\n",
        "- Support sessions with **AI expert Chaitanya Baweja** to assist with questions and challenges\n",
        "\n",
        "**References**:\n",
        "- Amazon product pages for review extraction\n",
        "- Python libraries: `pandas`, `google.generativeai`, `TextBlob`, and `matplotlib`"
      ],
      "metadata": {
        "id": "nFvBHZQR9L_V"
      }
    },
    {
      "cell_type": "code",
      "source": [],
      "metadata": {
        "id": "7oJ92EnYhMp2"
      },
      "execution_count": null,
      "outputs": []
    }
  ]
}